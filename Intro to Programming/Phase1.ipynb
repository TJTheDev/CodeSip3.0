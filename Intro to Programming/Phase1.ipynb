{
 "cells": [
  {
   "cell_type": "code",
   "execution_count": 2,
   "id": "0677a110",
   "metadata": {},
   "outputs": [],
   "source": [
    "class bank_account:\n",
    "    def __init__(self):\n",
    "        self.accountNum = \"0000000\"\n",
    "        self.accountOwner = \"None\"\n",
    "        self.balance = 0.00\n",
    "        self.bankName = \"Wells Fargo\"\n",
    "        \n"
   ]
  },
  {
   "cell_type": "code",
   "execution_count": 3,
   "id": "f86a4073",
   "metadata": {},
   "outputs": [],
   "source": [
    "myAccount = bank_account()\n"
   ]
  },
  {
   "cell_type": "code",
   "execution_count": 4,
   "id": "80287383",
   "metadata": {},
   "outputs": [
    {
     "name": "stdout",
     "output_type": "stream",
     "text": [
      "1234567\n",
      "Michael Jordan\n",
      "1000000.0\n",
      "Citi Chase\n"
     ]
    }
   ],
   "source": [
    "myAccount.accountNum = \"1234567\"\n",
    "myAccount.accountOwner = \"Michael Jordan\"\n",
    "myAccount.balance = 1000000.0\n",
    "myAccount.bankName = \"Citi Chase\"\n",
    "\n",
    "print(myAccount.accountNum)\n",
    "print(myAccount.accountOwner)\n",
    "print(myAccount.balance)\n",
    "print(myAccount.bankName)\n"
   ]
  },
  {
   "cell_type": "code",
   "execution_count": null,
   "id": "da8e16a2",
   "metadata": {},
   "outputs": [],
   "source": []
  }
 ],
 "metadata": {
  "kernelspec": {
   "display_name": "Python 3 (ipykernel)",
   "language": "python",
   "name": "python3"
  },
  "language_info": {
   "codemirror_mode": {
    "name": "ipython",
    "version": 3
   },
   "file_extension": ".py",
   "mimetype": "text/x-python",
   "name": "python",
   "nbconvert_exporter": "python",
   "pygments_lexer": "ipython3",
   "version": "3.11.5"
  }
 },
 "nbformat": 4,
 "nbformat_minor": 5
}
