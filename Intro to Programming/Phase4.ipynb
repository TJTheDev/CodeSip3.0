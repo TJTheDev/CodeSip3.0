{
 "cells": [
  {
   "cell_type": "code",
   "execution_count": 1,
   "id": "84c8caa1",
   "metadata": {},
   "outputs": [],
   "source": [
    "class bank_account:\n",
    "    def __init__(self):\n",
    "        self.accountNum = \"0000000\"\n",
    "        self.accountOwner = \"None\"\n",
    "        self.balance = 0.00\n",
    "        self.bankName = \"Wells Fargo\"\n",
    "        \n",
    "    def updateAccountNum(self, num):\n",
    "        self.accountNum = num\n",
    "        \n",
    "    def updateOwner(self, name):\n",
    "        self.accountOwner = name\n",
    "\n",
    "    def updateBalance(self, amount):\n",
    "        if amount < 0:\n",
    "            print(\"Error: Cannot update balance - invalid amount\")\n",
    "        else:\n",
    "            self.balance += amount\n",
    "        \n",
    "    def updateBankName(self, name):\n",
    "        self.bankName = name\n",
    "        \n",
    "class checking(bank_account):\n",
    "    def __init__(self):\n",
    "        super().__init__()\n",
    "        self.monthlyFee = 0\n",
    "        self.ATMFee = 0\n",
    "        self.interestRate = 0\n"
   ]
  },
  {
   "cell_type": "code",
   "execution_count": 2,
   "id": "c330cdd3",
   "metadata": {},
   "outputs": [
    {
     "name": "stdout",
     "output_type": "stream",
     "text": [
      "Error: Cannot update balance - invalid amount\n",
      "1234567\n",
      "Tiger Woods\n",
      "0.0\n",
      "Bank of America\n",
      "0\n",
      "0\n",
      "0\n"
     ]
    }
   ],
   "source": [
    "myAccount = checking()\n",
    "\n",
    "myAccount.updateAccountNum(\"1234567\")\n",
    "myAccount.updateOwner(\"Tiger Woods\") \n",
    "myAccount.updateBalance(-20.0)\n",
    "myAccount.updateBankName(\"Bank of America\")\n",
    "\n",
    "print(myAccount.accountNum)\n",
    "print(myAccount.accountOwner)\n",
    "print(myAccount.balance)\n",
    "print(myAccount.bankName)\n",
    "print(myAccount.monthlyFee)\n",
    "print(myAccount.ATMFee)\n",
    "print(myAccount.interestRate)"
   ]
  },
  {
   "cell_type": "code",
   "execution_count": 3,
   "id": "a5725a53",
   "metadata": {},
   "outputs": [
    {
     "name": "stdout",
     "output_type": "stream",
     "text": [
      "apple\n",
      "banana\n",
      "orange\n"
     ]
    }
   ],
   "source": [
    "fruits = ['apple', 'banana', 'orange']\n",
    "\n",
    "for x in fruits:\n",
    "    print(x)"
   ]
  },
  {
   "cell_type": "code",
   "execution_count": 4,
   "id": "8ef1880e",
   "metadata": {},
   "outputs": [
    {
     "name": "stdout",
     "output_type": "stream",
     "text": [
      "character is A\n"
     ]
    }
   ],
   "source": [
    "character = 'A'\n",
    "\n",
    "match character:\n",
    "    case 'A':\n",
    "        print(\"character is A\")\n",
    "    case 'B':\n",
    "        print(\"character is B\")\n",
    "    case 'C':\n",
    "        print(\"character is C\")"
   ]
  },
  {
   "cell_type": "code",
   "execution_count": null,
   "id": "6637cd7a",
   "metadata": {},
   "outputs": [],
   "source": []
  }
 ],
 "metadata": {
  "kernelspec": {
   "display_name": "Python 3 (ipykernel)",
   "language": "python",
   "name": "python3"
  },
  "language_info": {
   "codemirror_mode": {
    "name": "ipython",
    "version": 3
   },
   "file_extension": ".py",
   "mimetype": "text/x-python",
   "name": "python",
   "nbconvert_exporter": "python",
   "pygments_lexer": "ipython3",
   "version": "3.11.5"
  }
 },
 "nbformat": 4,
 "nbformat_minor": 5
}
