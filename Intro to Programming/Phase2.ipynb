{
 "cells": [
  {
   "cell_type": "code",
   "execution_count": 1,
   "id": "69912d0b",
   "metadata": {},
   "outputs": [],
   "source": [
    "class bank_account:\n",
    "    def __init__(self):\n",
    "        self.accountNum = \"0000000\"\n",
    "        self.accountOwner = \"None\"\n",
    "        self.balance = 0.00\n",
    "        self.bankName = \"Wells Fargo\"\n",
    "        \n",
    "    def updateAccountNum(self, num):\n",
    "        self.accountNum = num\n",
    "        \n",
    "    def updateOwner(self, name):\n",
    "        self.accountOwner = name\n",
    "\n",
    "    def updateBalance(self, amount):\n",
    "        self.balance += amount\n",
    "        \n",
    "    def updateBankName(self, name):\n",
    "        self.bankName = name"
   ]
  },
  {
   "cell_type": "code",
   "execution_count": 2,
   "id": "f7b03ed1",
   "metadata": {},
   "outputs": [
    {
     "name": "stdout",
     "output_type": "stream",
     "text": [
      "1234567\n",
      "Tiger Woods\n",
      "-20.0\n",
      "Bank of America\n"
     ]
    }
   ],
   "source": [
    "myAccount = bank_account()\n",
    "\n",
    "myAccount.updateAccountNum(\"1234567\")\n",
    "myAccount.updateOwner(\"Tiger Woods\") \n",
    "myAccount.updateBalance(-20.0)\n",
    "myAccount.updateBankName(\"Bank of America\")\n",
    "\n",
    "print(myAccount.accountNum)\n",
    "print(myAccount.accountOwner)\n",
    "print(myAccount.balance)\n",
    "print(myAccount.bankName)"
   ]
  },
  {
   "cell_type": "code",
   "execution_count": null,
   "id": "79760a5d",
   "metadata": {},
   "outputs": [],
   "source": []
  }
 ],
 "metadata": {
  "kernelspec": {
   "display_name": "Python 3 (ipykernel)",
   "language": "python",
   "name": "python3"
  },
  "language_info": {
   "codemirror_mode": {
    "name": "ipython",
    "version": 3
   },
   "file_extension": ".py",
   "mimetype": "text/x-python",
   "name": "python",
   "nbconvert_exporter": "python",
   "pygments_lexer": "ipython3",
   "version": "3.11.5"
  }
 },
 "nbformat": 4,
 "nbformat_minor": 5
}
